{
 "cells": [
  {
   "cell_type": "markdown",
   "id": "9aaad6a1",
   "metadata": {},
   "source": [
    "# BE Smart Cities\n",
    "The purpose of this project is to design a house with two rooms, and model and simulate the thermal behaviour of the building. We will study this in both steady state and dynamic simulation. \n",
    "\n",
    "## Modeling of the rooms\n",
    "\n",
    "The layout we chose for our rooms is the following : \n",
    "\n",
    "[insert rooms plan here]\n",
    "\n",
    "## Hypothesis\n",
    "\n",
    "For simplicity of the model, we make the following hypothesis : \n",
    " - The thermal transfers are linear, and the radiation is approximated by a coefficient close to convection\n",
    " - Length and height of the walls are considered to be 10 times greater than the width. Therefore we consider that the thermal transfer is unidirectional, and temperature is uniform on every surface.\n",
    " - We only consider the exchanges between vertical walls, assuming the floor and ceiling are adiabatic, such as the two walls without door and windows\n",
    " - We consider the indoor surface equal to the outdoor surface\n",
    " \n",
    "\n",
    "\n",
    "## Thermal model \n",
    "\n",
    "### Main parameters\n",
    "\n",
    "The first step was to constitue the thermal model of the rooms, using several elements : \n",
    "\n",
    "- The outer walls are made out of two materials : concrete and insulation \n",
    "Their dimensions are 6 x 2.5 x 0.16 m. \n",
    "\n",
    "- The inner wall is made out of concrete only. \n",
    "\n",
    "- The windows are 0.6 x 0.8 x 0.02 m. Wall A is only glass (6 x 2.5 x 0.02 m). \n",
    "\n",
    "- The doors are 2.20 x 0.8 x 0.05 m.\n"
   ]
  },
  {
   "cell_type": "code",
   "execution_count": 1,
   "id": "90efa56a",
   "metadata": {},
   "outputs": [
    {
     "ename": "ModuleNotFoundError",
     "evalue": "No module named 'numpy'",
     "output_type": "error",
     "traceback": [
      "\u001b[0;31m---------------------------------------------------------------------------\u001b[0m",
      "\u001b[0;31mModuleNotFoundError\u001b[0m                       Traceback (most recent call last)",
      "Cell \u001b[0;32mIn[1], line 1\u001b[0m\n\u001b[0;32m----> 1\u001b[0m \u001b[38;5;28;01mimport\u001b[39;00m\u001b[38;5;250m \u001b[39m\u001b[38;5;21;01mnumpy\u001b[39;00m\u001b[38;5;250m \u001b[39m\u001b[38;5;28;01mas\u001b[39;00m\u001b[38;5;250m \u001b[39m\u001b[38;5;21;01mnp\u001b[39;00m\n\u001b[1;32m      2\u001b[0m \u001b[38;5;28;01mimport\u001b[39;00m\u001b[38;5;250m \u001b[39m\u001b[38;5;21;01mpandas\u001b[39;00m\u001b[38;5;250m \u001b[39m\u001b[38;5;28;01mas\u001b[39;00m\u001b[38;5;250m \u001b[39m\u001b[38;5;21;01mpd\u001b[39;00m\n\u001b[1;32m      5\u001b[0m L \u001b[38;5;241m=\u001b[39m \u001b[38;5;241m6\u001b[39m\n",
      "\u001b[0;31mModuleNotFoundError\u001b[0m: No module named 'numpy'"
     ]
    }
   ],
   "source": [
    "import numpy as np\n",
    "import pandas as pd\n",
    "\n",
    "\n",
    "L = 6\n",
    "wall_height = 2.5\n",
    "SA = L*wall_height       # m² surface area of the glass wall (wall A)\n",
    "Swindow = 0.6*0.8 # For 1 window\n",
    "Sdoor= 2.2*0.8 # For 1 door\n",
    "SB_c = L*wall_height-Swindow\n",
    "SC_c = L*wall_height-Swindow-Sdoor\n",
    "SD_c = L* wall_height\n",
    "SE_c = L*wall_height-Sdoor\n",
    "SF_c = L* wall_height\n",
    "SG_c = L*wall_height\n",
    "S_c = S_i = SB_c + SC_c + SD_c + SE_c + SF_c + SG_c\n",
    "S_g= SA + 2*Swindow\n",
    "S_d = 2*Sdoor\n",
    "width_wall=0.16\n",
    "width_insulation=0.04\n",
    "width_window=0.02\n",
    "width_door=0.05\n"
   ]
  },
  {
   "cell_type": "markdown",
   "id": "fc402d01-75a3-4e90-a88c-17daecbd1401",
   "metadata": {},
   "source": [
    "We filled in the thermo-physical properties of air, and of the 4 materials listed before."
   ]
  },
  {
   "cell_type": "code",
   "execution_count": null,
   "id": "bea77485-e57e-4848-8475-7883c5c3c3fb",
   "metadata": {},
   "outputs": [],
   "source": [
    "air = {'Density': 1.2,                      # kg/m³\n",
    "       'Specific heat': 1000}               # J/(kg·K)\n",
    "pd.DataFrame(air, index=['Air'])\n",
    "\n",
    "\n",
    "concrete = {'Conductivity': 1.046,          # W/(m·K)\n",
    "            'Density': 2300.0,              # kg/m³\n",
    "            'Specific heat': 657,           # J/(kg⋅K)\n",
    "            'Width': 0.16,                   # m\n",
    "            'Surface': S_c}            # m²\n",
    "\n",
    "\n",
    "insulation = {'Conductivity': 0.0325,        # W/(m·K)\n",
    "              'Density': 128.0,              # kg/m³\n",
    "              'Specific heat': 1093,        # J/(kg⋅K)\n",
    "              'Width': 0.04,                # m\n",
    "              'Surface': S_i}          # m²\n",
    "\n",
    "\n",
    "glass = {'Conductivity': 1,               # W/(m·K)\n",
    "         'Density': 2500,                   # kg/m³\n",
    "         'Specific heat': 1210,             # J/(kg⋅K)\n",
    "         'Width': 0.02,                     # m\n",
    "         'Surface': S_g}                   # m²\n",
    "\n",
    "\n",
    "door = {'Conductivity': 0.63,               # W/(m·K)\n",
    "         'Density': 825,                   # kg/m³\n",
    "         'Specific heat': 1210,             # J/(kg⋅K)\n",
    "         'Width': 0.04,                     # m\n",
    "         'Surface': S_d}                   # m²\n",
    "        "
   ]
  },
  {
   "cell_type": "markdown",
   "id": "19b6b213-8a17-4d5c-9703-176acc3b2352",
   "metadata": {},
   "source": [
    "Conventional values for the convection coefficients for indoor and outdoor convection in W/(m²⋅K) are:"
   ]
  },
  {
   "cell_type": "code",
   "execution_count": null,
   "id": "26abc68d-8762-4bd6-912a-a3e2bbcf35b6",
   "metadata": {},
   "outputs": [],
   "source": [
    "h = pd.DataFrame([{'in': 8., 'out': 25}], index=['h'])  # W/(m²⋅K)"
   ]
  },
  {
   "cell_type": "markdown",
   "id": "0285af4c-4f9e-4125-ba63-c3617e1a0447",
   "metadata": {},
   "source": [
    "Advection in the rooms "
   ]
  },
  {
   "cell_type": "code",
   "execution_count": 2,
   "id": "6bb9c5cb-1d5b-45b5-a83e-9cbac5423438",
   "metadata": {},
   "outputs": [
    {
     "ename": "NameError",
     "evalue": "name 'L' is not defined",
     "output_type": "error",
     "traceback": [
      "\u001b[0;31m---------------------------------------------------------------------------\u001b[0m",
      "\u001b[0;31mNameError\u001b[0m                                 Traceback (most recent call last)",
      "Cell \u001b[0;32mIn[2], line 2\u001b[0m\n\u001b[1;32m      1\u001b[0m \u001b[38;5;66;03m# ventilation flow rate\u001b[39;00m\n\u001b[0;32m----> 2\u001b[0m V \u001b[38;5;241m=\u001b[39m \u001b[43mL\u001b[49m\u001b[38;5;241m*\u001b[39mL\u001b[38;5;241m*\u001b[39mwall_height                 \u001b[38;5;66;03m# m³, volume of air\u001b[39;00m\n\u001b[1;32m      5\u001b[0m ACH \u001b[38;5;241m=\u001b[39m \u001b[38;5;241m1\u001b[39m                     \u001b[38;5;66;03m# 1/h, air changes per hour\u001b[39;00m\n\u001b[1;32m      6\u001b[0m Va_dot \u001b[38;5;241m=\u001b[39m ACH \u001b[38;5;241m/\u001b[39m \u001b[38;5;241m3600\u001b[39m \u001b[38;5;241m*\u001b[39m (V)    \u001b[38;5;66;03m# m³/s, air infiltration\u001b[39;00m\n",
      "\u001b[0;31mNameError\u001b[0m: name 'L' is not defined"
     ]
    }
   ],
   "source": [
    "# ventilation flow rate\n",
    "V = L*L*wall_height                 # m³, volume of air\n",
    "\n",
    "\n",
    "ACH = 1                     # 1/h, air changes per hour\n",
    "Va_dot = ACH / 3600 * (V)    # m³/s, air infiltration\n",
    "\n",
    "\n",
    "# ventilation & advection\n",
    "Gv = air['Density'] * air['Specific heat'] * Va_dot\n",
    "\n",
    "\n",
    "# P-controler gain\n",
    "# Kp = 1e4            # almost perfect controller Kp -> ∞\n",
    "# Kp = 1e-3           # no controller Kp -> 0\n",
    "Kp = 0"
   ]
  },
  {
   "cell_type": "markdown",
   "id": "c2ccdf39-bcd9-4b3c-aa1e-fc1e22e4a12e",
   "metadata": {},
   "source": [
    "### Electrical model of the rooms\n",
    "\n",
    "We then drew the equivalent eletrical schema of our room and numbered each node (from 0 to 18) and each resistance (from 0 to 25). We added the sun irradiation and internal irradiation (electrical devices, users of the rooms…). \n",
    "\n",
    "\n",
    "[insert schema here]\n"
   ]
  },
  {
   "cell_type": "code",
   "execution_count": null,
   "id": "df3b7a92-7d38-44dd-96b5-926e0034fb5d",
   "metadata": {},
   "outputs": [],
   "source": [
    "# temperature nodes\n",
    "θ = ['θ0', 'θ1', 'θ2', 'θ3', 'θ4', 'θ5', 'θ6', 'θ7', 'θ8', 'θ9', 'θ10', 'θ11', 'θ12', 'θ13', 'θ14', 'θ15', 'θ16', 'θ17', 'θ18']\n",
    "\n",
    "\n",
    "# flow-rate branches\n",
    "q = ['q0', 'q1', 'q2', 'q3', 'q4', 'q5', 'q6', 'q7', 'q8', 'q9', 'q10', 'q11', 'q12', 'q13', 'q14', 'q15', 'q16', 'q17', 'q18', 'q19', 'q20', 'q21', 'q22', 'q23', 'q24', 'q25']\n",
    "\n",
    "\n",
    "# temperature nodes\n",
    "nθ = 19      # number of temperature nodes\n",
    "θ = [f'θ{i}' for i in range(nθ)]\n",
    "\n",
    "\n",
    "# flow-rate branches\n",
    "nq = 26     # number of flow branches\n",
    "q = [f'q{i}' for i in range(nq)]"
   ]
  },
  {
   "cell_type": "markdown",
   "id": "b22829e4-9691-4228-8006-0c685fca800e",
   "metadata": {},
   "source": [
    "### Computation of matrices\n",
    "The next step was to compute every value of conductance for convection and conduction and fill the conductance diagonal matrix G, the capacity diagonal matrix C, the incidence matrix A, the temperature source vector b and the heat flow source vector f"
   ]
  },
  {
   "cell_type": "code",
   "execution_count": null,
   "id": "cd3c502b-ae72-4bdb-9137-7b74977f814c",
   "metadata": {},
   "outputs": [],
   "source": [
    "G = np.array(np.hstack(\n",
    "    [h['out']*SB_c,\n",
    "     2 * concrete['Conductivity']*SB_c/width_wall, 2 * concrete['Conductivity']*SB_c/width_wall,\n",
    "     2 * insulation['Conductivity']/width_insulation*SB_c, 2 * insulation['Conductivity']/width_insulation*SB_c,\n",
    "     h['in']*SB_c,\n",
    "     h['out']*SC_c,\n",
    "     2 * concrete['Conductivity']/width_wall*SC_c, 2 * concrete['Conductivity']/width_wall*SC_c,\n",
    "     2 * insulation['Conductivity']/width_insulation*SC_c, 2 * insulation['Conductivity']/width_insulation*SC_c,\n",
    "     h['in']*SC_c,\n",
    "     h['out']*SE_c,\n",
    "     2 * concrete['Conductivity']/width_wall*SE_c, 2 * concrete['Conductivity']/width_wall*SE_c,\n",
    "     2 * insulation['Conductivity']/width_insulation*SE_c, 2 * insulation['Conductivity']/width_insulation*SE_c,\n",
    "     h['in']*SE_c,\n",
    "     Gv + (h['out']+h['in'])*(SA+Sdoor) + glass['Conductivity']/width_window*SA + door['Conductivity']/width_door*Sdoor,\n",
    "     Gv + (h['out']+h['in'])*(2*Swindow+Sdoor) + 2*(glass['Conductivity']/width_window*Swindow) + door['Conductivity']/width_door*Sdoor,\n",
    "     Kp,\n",
    "     h['in']*SG_c,\n",
    "     2 * concrete['Conductivity']/width_wall*SG_c, 2 * concrete['Conductivity']/width_wall*SG_c,\n",
    "     h['in']*SG_c,\n",
    "     Kp]))\n",
    "\n",
    "\n",
    "G_matrix=np.zeros((nq,nq))\n",
    "for i in range (nq):\n",
    "   G_matrix[i,i]=G[i]\n",
    "\n",
    "pd.DataFrame(G, index=q)\n",
    "\n"
   ]
  }
 ],
 "metadata": {
  "kernelspec": {
   "display_name": "Python 3 (ipykernel)",
   "language": "python",
   "name": "python3"
  },
  "language_info": {
   "codemirror_mode": {
    "name": "ipython",
    "version": 3
   },
   "file_extension": ".py",
   "mimetype": "text/x-python",
   "name": "python",
   "nbconvert_exporter": "python",
   "pygments_lexer": "ipython3",
   "version": "3.10.16"
  }
 },
 "nbformat": 4,
 "nbformat_minor": 5
}
